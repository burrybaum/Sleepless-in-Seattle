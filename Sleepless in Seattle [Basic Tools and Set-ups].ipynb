{
 "cells": [
  {
   "cell_type": "code",
   "execution_count": 3,
   "metadata": {},
   "outputs": [],
   "source": [
    "#project code name: \"Sleepless in Seattle\" \n",
    "#project objective: Find the expected returns of taking levearge (margin trade) on crypto assets"
   ]
  },
  {
   "cell_type": "code",
   "execution_count": 4,
   "metadata": {},
   "outputs": [],
   "source": [
    "from datetime import datetime\n",
    "import time \n",
    "import json \n",
    "import pandas as pd \n",
    "import requests \n",
    "import math\n",
    "import matplotlib.pyplot as plt\n",
    "import numpy as np"
   ]
  },
  {
   "cell_type": "code",
   "execution_count": 5,
   "metadata": {},
   "outputs": [],
   "source": [
    "#Function that takes time(int) as a parameter and returns year, month, and day in array \n",
    "def time_converter(input_time):\n",
    "    year = int(str(input_time)[:4])\n",
    "    month = int(str(input_time)[4:6])\n",
    "    day = int(str(input_time)[6:8])\n",
    "    time_list = [year, month, day]\n",
    "    return(time_list)"
   ]
  },
  {
   "cell_type": "code",
   "execution_count": 6,
   "metadata": {},
   "outputs": [],
   "source": [
    "#print(time_converter(20200101)), returns [2020, 1, 1]"
   ]
  },
  {
   "cell_type": "code",
   "execution_count": 340,
   "metadata": {},
   "outputs": [],
   "source": [
    "# The function splits the data into 1500 slots and combines into one frame in a given start time and end time. \n",
    "# parameters: start period, end period, resolution, market name(pair) \n",
    "# return: date, high, low fully binded \n",
    "# resolution is the window length in seconds (15, 60, 300, 900, 3600, 14400, 86400, or any multiple of 86400 up to 30*86400)\n",
    "\n",
    "def data_binder(start_time, end_time, resolution, market_name):\n",
    "    #Select time \n",
    "    st_list = time_converter(start_time)\n",
    "    st_time_convert = datetime(st_list[0], st_list[1], st_list[2]).timestamp()\n",
    "    ed_list = time_converter(end_time) \n",
    "    ed_time_convert = datetime(ed_list[0], ed_list[1], ed_list[2]).timestamp()\n",
    "    \n",
    "    total_time = (ed_time_convert - st_time_convert) \n",
    "    \n",
    "    num_slot = ((total_time) / resolution)\n",
    "    num_df = math.ceil(num_slot /1500)  #start from 0 which will naturally round up, since the maximum number of a request is 1500 \n",
    "    \n",
    "    endpoint_url = 'https://ftx.com/api/markets'\n",
    "    last_data = requests.get(f'{endpoint_url}/{market_name}/candles?resolution={resolution}&start_time={st_time_convert}&end_time={ed_time_convert}').json()\n",
    "    last_data_df = pd.DataFrame(last_data['result'])\n",
    "    \n",
    "    #iterate and bind all fragmented dataframes \n",
    "    page_df = 1 \n",
    "    last_end_time = (last_data_df.time[0] / 1000) - resolution \n",
    "    all_eth_price_history = last_data_df\n",
    "    while(page_df < num_df):\n",
    "        next_data = requests.get(f'{endpoint_url}/{market_name}/candles?resolution={resolution}&start_time={st_time_convert}&end_time={last_end_time}').json()\n",
    "        next_df = pd.DataFrame(next_data['result'])\n",
    "        combine_frame = [next_df, all_eth_price_history]\n",
    "        all_eth_price_history = pd.concat(combine_frame, ignore_index = True) #merge \n",
    "        last_end_time = (next_df.time[0] / 1000) - resolution \n",
    "        page_df += 1\n",
    "    return(all_eth_price_history[['startTime', 'time', 'high', 'low', 'volume']])"
   ]
  },
  {
   "cell_type": "code",
   "execution_count": null,
   "metadata": {},
   "outputs": [],
   "source": [
    "#Create sample data sets and store in csv file"
   ]
  },
  {
   "cell_type": "code",
   "execution_count": 388,
   "metadata": {},
   "outputs": [],
   "source": [
    "bull_sample1 = data_binder(20210719, 20210730, 300, 'ETH/USD') #resolution: 5 min "
   ]
  },
  {
   "cell_type": "code",
   "execution_count": 431,
   "metadata": {},
   "outputs": [],
   "source": [
    "bull_sample1.to_csv('bull_sample1.csv')"
   ]
  },
  {
   "cell_type": "code",
   "execution_count": 342,
   "metadata": {},
   "outputs": [],
   "source": [
    "bull_sample2 = data_binder(20220313, 20220328, 300, 'ETH/USD') "
   ]
  },
  {
   "cell_type": "code",
   "execution_count": 43,
   "metadata": {},
   "outputs": [],
   "source": [
    "bull_sample2.to_csv('bull_sample2.csv')"
   ]
  },
  {
   "cell_type": "code",
   "execution_count": 343,
   "metadata": {},
   "outputs": [],
   "source": [
    "bear_sample1 = data_binder(20211202, 20220106, 300, 'ETH/USD') "
   ]
  },
  {
   "cell_type": "code",
   "execution_count": 45,
   "metadata": {},
   "outputs": [],
   "source": [
    "bear_sample1.to_csv('bear_sample1.csv')"
   ]
  },
  {
   "cell_type": "code",
   "execution_count": 344,
   "metadata": {},
   "outputs": [],
   "source": [
    "bear_sample2 =  data_binder(20220403, 20220509, 300, 'ETH/USD') "
   ]
  },
  {
   "cell_type": "code",
   "execution_count": 47,
   "metadata": {},
   "outputs": [],
   "source": [
    "bear_sample2.to_csv('bear_sample2.csv')"
   ]
  },
  {
   "cell_type": "code",
   "execution_count": 345,
   "metadata": {},
   "outputs": [],
   "source": [
    "sideways_sample = data_binder(20220921, 20221018, 300, 'ETH/USD') "
   ]
  },
  {
   "cell_type": "code",
   "execution_count": 49,
   "metadata": {},
   "outputs": [],
   "source": [
    "sideways_sample.to_csv('sideways.csv')"
   ]
  },
  {
   "cell_type": "code",
   "execution_count": 50,
   "metadata": {},
   "outputs": [],
   "source": [
    "#The function calculates the liqduiation price \n",
    "#parameters: current_price (float or int), leverage_cosntant(float or int), position_type(string)\n",
    "#returns: the liquidation price (=tirgger price, int)\n",
    "\n",
    "def liquidation_cal(open_price, leverage_constant, position_type):\n",
    "    if (position_type == 'long'):\n",
    "        liquidation_ratio = round(100 / leverage_constant, 4)/100\n",
    "        trigger_price = round((open_price - (open_price * liquidation_ratio)),2)\n",
    "    if (position_type == 'short'): \n",
    "        liquidation_ratio = round(100 / leverage_constant, 4)/100\n",
    "        trigger_price = round((open_price + (open_price * liquidation_ratio)),2)\n",
    "    return(trigger_price)"
   ]
  },
  {
   "cell_type": "code",
   "execution_count": 51,
   "metadata": {},
   "outputs": [
    {
     "name": "stdout",
     "output_type": "stream",
     "text": [
      "900.0\n",
      "1100.0\n"
     ]
    }
   ],
   "source": [
    "#Check liquidation_cal \n",
    "print(liquidation_cal(1000.0, 10, 'long')) #900.0\n",
    "print(liquidation_cal(1000, 10, 'short')) #1100.0"
   ]
  },
  {
   "cell_type": "code",
   "execution_count": 52,
   "metadata": {},
   "outputs": [],
   "source": [
    "#The function calculates the profit made from an open position \n",
    "#parameters: max_price (float or int), open_price(float or int), leverage_constant(float or int)\n",
    "#returns: the profit in percentage (float, rounded 2 decimals)\n",
    "\n",
    "def profit_percent_cal(max_price, open_price, leverage_constant):\n",
    "        profit = abs(max_price - open_price)\n",
    "        profit_percent = round(((profit / open_price) * leverage_constant), 4) * 100\n",
    "        return (round(profit_percent, 2))"
   ]
  },
  {
   "cell_type": "code",
   "execution_count": 377,
   "metadata": {},
   "outputs": [],
   "source": [
    "# The function returns the dataframe that includes liquidation period, check of liquidation, maximum profit, percentage of \n",
    "# the maximum profit, and volume at the time of liquidation for the long positions. \n",
    "\n",
    "# parameters: \n",
    "# price_type: Define which price type to use to open a position (string, 'highest' or 'lowest')\n",
    "# leverage_constant: Define leverage amount \n",
    "# resolution: Define candle size (in seconds)\n",
    "# data_set: The sample data set that is used\n",
    "\n",
    "# return: \n",
    "# The function returns final_result, which is a dataframe consist of 5 following arrays. \n",
    "# liquidation_period: Array for all liquidation periods  \n",
    "# liquidation_checker: Array checking if the position is liquidated\n",
    "# max_profit: Array for all maximum profit before liquidation happens \n",
    "# max_profit_prcnt: Array for all maximum profit percentage \n",
    "# volume: Array that records volume at the time of liquidation \n",
    "\n",
    "\n",
    "def leverage_checker_long(price_type, leverage_constant, resolution, data_set): \n",
    "    #Define price type (lowest from candle, highest from candle) \n",
    "    if(price_type == 'lowest'): \n",
    "        open_price_type = 'low'\n",
    "    elif(price_type == 'highest'): \n",
    "        open_price_type  = 'high'\n",
    "    else: \n",
    "        return(\"Invalid input data, select lowest or highest\")\n",
    "    \n",
    "    \n",
    "    data_duration = int((data_set.time[1] - data_set.time[0]) / 1000)\n",
    "    if(int(resolution) != data_duration):\n",
    "        return(\"Invalid input data, check if the resolution matches\")\n",
    "    \n",
    "    #Define ouput variables \n",
    "    liquidation_period = [] #Time taken untill full liquidation \n",
    "    liquidation_checker = [] #0 if not liquidated, 1 if liquidated \n",
    "    max_profit = [] #Maximum profit\n",
    "    max_profit_prcnt = [] #Maximum profit percentage  \n",
    "    volume = [] #Volume at the liquidation \n",
    "\n",
    "    num_position = data_set.shape[0] #Number of open positions (each candle)\n",
    "\n",
    "    #loop through all slots \n",
    "    for i in range (0, num_position - 1): \n",
    "        open_position = data_set[open_price_type][i]\n",
    " \n",
    "        #Check liquidation\n",
    "        liquidation_status = 0\n",
    "        max_profit_price = open_position\n",
    "        position_type = 'long'\n",
    "        \n",
    "        #Find trigger price \n",
    "        trigger_price = liquidation_cal(open_position, leverage_constant, position_type)\n",
    "        for j in range(i+1, num_position):  \n",
    "            if (max_profit_price < data_set.high[j]):\n",
    "                max_profit_price = data_set.high[j]\n",
    "                max_profit_amount = round(abs(open_position - max_profit_price),3)\n",
    "\n",
    "            #Check if hit the trigger \n",
    "            check_price = data_set['low'][j] \n",
    "\n",
    "            if (check_price <= trigger_price): \n",
    "                #update output variables \n",
    "                liquidation_period.append((j * resolution) / 60) #record time taken (minute)\n",
    "                \n",
    "                liquidation_status = 1 #check liquidation\n",
    "                liquidation_checker.append(liquidation_status)\n",
    "                \n",
    "                max_profit.append((max_profit_amount))\n",
    "                margin_made = profit_percent_cal(max_profit_price, open_position, leverage_constant)\n",
    "                max_profit_prcnt.append((margin_made))\n",
    "                \n",
    "                volume.append(data_set.volume[j])\n",
    "                break    \n",
    "                \n",
    "            elif((j == (num_position - 1)) and (liquidation_status == 0)):\n",
    "                liquidation_period.append(((j * resolution) / 60)) #record time taken (minute)\n",
    "                liquidation_checker.append(liquidation_status)\n",
    "                max_profit.append(max_profit_amount)\n",
    "                margin_made = profit_percent_cal(max_profit_price, open_position, leverage_constant)\n",
    "                max_profit_prcnt.append((margin_made))\n",
    "                volume.append(data_set.volume[j])\n",
    "                break \n",
    "        \n",
    "    final_result = {'lq period':liquidation_period, 'lq check':liquidation_checker, 'max profit':max_profit,'max %': max_profit_prcnt, 'volume':volume}    \n",
    "    return(pd.DataFrame(final_result))"
   ]
  },
  {
   "cell_type": "code",
   "execution_count": 372,
   "metadata": {},
   "outputs": [],
   "source": [
    "# The function returns the dataframe that includes liquidation period, check of liquidation, maximum profit, percentage of \n",
    "# the maximum profit, and volume at the time of liquidation for short positions. \n",
    "\n",
    "# parameters: \n",
    "# price_type: Define which price type to use to open a position (string, 'highest' or 'lowest')\n",
    "# leverage_constant: Define leverage amount \n",
    "# resolution: Define candle size (in seconds)\n",
    "# data_set: The sample data set that is used\n",
    "\n",
    "# return: \n",
    "# The function returns final_result, which is a dataframe consist of 5 following arrays. \n",
    "# liquidation_period: Array for all liquidation periods  \n",
    "# liquidation_checker: Array checking if the position is liquidated\n",
    "# max_profit: Array for all maximum profit before liquidation happens \n",
    "# max_profit_prcnt: Array for all maximum profit percentage \n",
    "# volume: Array that records volume at the time of liquidation \n",
    "\n",
    "\n",
    "def leverage_checker_short(price_type, leverage_constant, resolution, data_set): \n",
    "    #Define price type (lowest from candle, highest from candle) \n",
    "    if(price_type == 'lowest'): \n",
    "        open_price_type = 'low'\n",
    "    elif(price_type == 'highest'): \n",
    "        open_price_type  = 'high'\n",
    "    else: \n",
    "        return(\"Invalid input data, select lowest or highest\")\n",
    "    \n",
    "    #Check duration matches with the data set\n",
    "    data_duration = int((data_set.time[1] - data_set.time[0]) / 1000)\n",
    "    if(int(resolution) != data_duration):\n",
    "        #print(resolution, data_duration)\n",
    "        return(\"Invalid input data, check if the resolution matches\")\n",
    "     \n",
    "    #Define ouput variables \n",
    "    liquidation_period = [] #Time taken untill full liquidation \n",
    "    liquidation_checker = [] #0 if not liquidated, 1 if liquidated \n",
    "    max_profit = [] #Maximum profit\n",
    "    max_profit_prcnt = [] #Mximum profit percentage  \n",
    "    volume = [] #Volume at the liquidation \n",
    "\n",
    "    num_position = data_set.shape[0] #Number of open positions (each candle)\n",
    "\n",
    "    #loop through all slots \n",
    "    for i in range (0, num_position): \n",
    "        open_position = data_set[open_price_type][i]\n",
    " \n",
    "        #Check liquidation\n",
    "        liquidation_status = 0\n",
    "        max_profit_price = open_position\n",
    "        max_profit_amount = 0 \n",
    "        position_type = 'short'\n",
    "        \n",
    "        #Find trigger price \n",
    "        trigger_price = liquidation_cal(open_position, leverage_constant, position_type)\n",
    "        \n",
    "        for j in range(i+1, num_position):  \n",
    "            if (max_profit_price < data_set.low[j]):\n",
    "                max_profit_price = data_set.low[j]\n",
    "                max_profit_amount = round(abs(open_position - max_profit_price),3)\n",
    "\n",
    "            #Check if hit the trigger \n",
    "            check_price = data_set['high'][j] \n",
    "            if (check_price >= trigger_price): \n",
    "                #update output variables \n",
    "                liquidation_period.append((j * resolution) / 60) #record time taken (minute)\n",
    "                \n",
    "                liquidation_status = 1 #check liquidation\n",
    "                liquidation_checker.append(liquidation_status)\n",
    "            \n",
    "                max_profit.append((max_profit_amount))\n",
    "                margin_made = profit_percent_cal(max_profit_price, open_position, leverage_constant)\n",
    "                max_profit_prcnt.append((margin_made))\n",
    "                \n",
    "                volume.append(data_set.volume[j])\n",
    "                break    \n",
    "                \n",
    "            elif((j == (num_position - 1)) and (liquidation_status == 0)):\n",
    "                liquidation_period.append(((j * resolution) / 60)) #record time taken (minute)\n",
    "                liquidation_checker.append(liquidation_status)\n",
    "                max_profit.append(max_profit_amount)\n",
    "                margin_made = profit_percent_cal(max_profit_price, open_position, leverage_constant)\n",
    "                max_profit_prcnt.append((margin_made))\n",
    "                volume.append(data_set.volume[j])\n",
    "                break \n",
    "\n",
    "    final_result = {'lq period':liquidation_period, 'lq check':liquidation_checker, 'max profit':max_profit,'max %': max_profit_prcnt, 'volume':volume}\n",
    "    return(pd.DataFrame(final_result))"
   ]
  },
  {
   "cell_type": "code",
   "execution_count": 82,
   "metadata": {},
   "outputs": [],
   "source": [
    "#Note that the possibility of liquidation decreases when there are less remaining slots to check. "
   ]
  },
  {
   "cell_type": "code",
   "execution_count": 442,
   "metadata": {},
   "outputs": [],
   "source": [
    "#1. Ride the Tide \n",
    "#1.1 Short in Bull vs Long in Bull (sample 1 & sample 2)\n",
    "#1.2 Short in Bear vs Long in Bear (sample 1 & sample 2)\n",
    "#1.3 Short in Sideways vs Long in Bull (sample 1)\n",
    "\n",
    "#2. Impact of the Leverage \n",
    "#2.1 Compare Long in Bull (3x 15x 30x)\n",
    "#2.2 Compare Short in Bear (3x, 15x, 30x)\n",
    "\n",
    "#3. Does your trading skill matters? \n",
    "#3.1 Long in Bull (Highest vs Lowest)\n",
    "#3.2 Short in Bear (Highest vs Lowest)\n"
   ]
  },
  {
   "cell_type": "code",
   "execution_count": 390,
   "metadata": {},
   "outputs": [],
   "source": [
    "bull1_short = leverage_checker_short('highest', 3, 300, bull_sample1)"
   ]
  },
  {
   "cell_type": "code",
   "execution_count": 430,
   "metadata": {},
   "outputs": [],
   "source": [
    "bull1_short.to_csv('bull1_short.csv')"
   ]
  },
  {
   "cell_type": "code",
   "execution_count": 393,
   "metadata": {},
   "outputs": [],
   "source": [
    "bull2_short = leverage_checker_short('highest', 3, 300, bull_sample2)"
   ]
  },
  {
   "cell_type": "code",
   "execution_count": 429,
   "metadata": {},
   "outputs": [],
   "source": [
    "bull2_short.to_csv('bull2_short.csv')"
   ]
  },
  {
   "cell_type": "code",
   "execution_count": 394,
   "metadata": {},
   "outputs": [],
   "source": [
    "bull1_long = leverage_checker_long('highest', 3, 300, bull_sample1)"
   ]
  },
  {
   "cell_type": "code",
   "execution_count": 428,
   "metadata": {},
   "outputs": [],
   "source": [
    "bull1_long.to_csv('bull1_long.csv')"
   ]
  },
  {
   "cell_type": "code",
   "execution_count": 432,
   "metadata": {},
   "outputs": [],
   "source": [
    "bull2_long = leverage_checker_long('highest', 3, 300, bull_sample2)"
   ]
  },
  {
   "cell_type": "code",
   "execution_count": 434,
   "metadata": {},
   "outputs": [],
   "source": [
    "bull2_long.to_csv('bull2_long.csv')"
   ]
  },
  {
   "cell_type": "code",
   "execution_count": 438,
   "metadata": {},
   "outputs": [],
   "source": [
    "bear1_long = leverage_checker_long('highest', 3, 300, bear_sample1)"
   ]
  },
  {
   "cell_type": "code",
   "execution_count": 439,
   "metadata": {},
   "outputs": [],
   "source": [
    "bear1_long.to_csv('bear1_long.csv')"
   ]
  },
  {
   "cell_type": "code",
   "execution_count": 440,
   "metadata": {},
   "outputs": [],
   "source": [
    "bear1_short = leverage_checker_short('highest', 3, 300, bear_sample1)"
   ]
  },
  {
   "cell_type": "code",
   "execution_count": 441,
   "metadata": {},
   "outputs": [],
   "source": [
    "bear1_short.to_csv('bear1_short.csv')"
   ]
  },
  {
   "cell_type": "code",
   "execution_count": 397,
   "metadata": {},
   "outputs": [],
   "source": [
    "bear2_long = leverage_checker_long('highest', 3, 300, bear_sample2)"
   ]
  },
  {
   "cell_type": "code",
   "execution_count": 427,
   "metadata": {},
   "outputs": [],
   "source": [
    "bear2_long.to_csv('bear2_long.csv')"
   ]
  },
  {
   "cell_type": "code",
   "execution_count": 436,
   "metadata": {},
   "outputs": [],
   "source": [
    "bear2_short = leverage_checker_short('highest', 3, 300, bear_sample2)"
   ]
  },
  {
   "cell_type": "code",
   "execution_count": 437,
   "metadata": {},
   "outputs": [],
   "source": [
    "bear2_short.to_csv('bear2_short.csv')"
   ]
  },
  {
   "cell_type": "code",
   "execution_count": 398,
   "metadata": {},
   "outputs": [],
   "source": [
    "sideways_short = leverage_checker_short('highest', 3, 300, sideways_sample)"
   ]
  },
  {
   "cell_type": "code",
   "execution_count": 426,
   "metadata": {},
   "outputs": [],
   "source": [
    "sideways_short.to_csv('sideways_short.csv')"
   ]
  },
  {
   "cell_type": "code",
   "execution_count": 399,
   "metadata": {},
   "outputs": [],
   "source": [
    "sideways_long = leverage_checker_long('highest', 3, 300, sideways_sample)"
   ]
  },
  {
   "cell_type": "code",
   "execution_count": 425,
   "metadata": {},
   "outputs": [],
   "source": [
    "sideways_long.to_csv('sideways_long.csv')"
   ]
  },
  {
   "cell_type": "code",
   "execution_count": 400,
   "metadata": {},
   "outputs": [],
   "source": [
    "bull1_levg_3 = leverage_checker_long('highest', 3, 300, bull_sample1)"
   ]
  },
  {
   "cell_type": "code",
   "execution_count": 424,
   "metadata": {},
   "outputs": [],
   "source": [
    "bull1_levg_3.to_csv('bull1_levg_3.csv')"
   ]
  },
  {
   "cell_type": "code",
   "execution_count": 401,
   "metadata": {},
   "outputs": [],
   "source": [
    "bull1_levg_15 = leverage_checker_long('highest', 15, 300, bull_sample1)"
   ]
  },
  {
   "cell_type": "code",
   "execution_count": 423,
   "metadata": {},
   "outputs": [],
   "source": [
    "bull1_levg_15.to_csv('bull1_levg_15.csv')"
   ]
  },
  {
   "cell_type": "code",
   "execution_count": 402,
   "metadata": {},
   "outputs": [],
   "source": [
    "bull1_levg_30 = leverage_checker_long('highest', 30, 300, bull_sample1)"
   ]
  },
  {
   "cell_type": "code",
   "execution_count": 422,
   "metadata": {},
   "outputs": [],
   "source": [
    "bull1_levg_30.to_csv('bull1_levg_30.csv')"
   ]
  },
  {
   "cell_type": "code",
   "execution_count": 406,
   "metadata": {},
   "outputs": [],
   "source": [
    "bear1_levg_3 = leverage_checker_short('highest', 3, 300, bear_sample1)"
   ]
  },
  {
   "cell_type": "code",
   "execution_count": 421,
   "metadata": {},
   "outputs": [],
   "source": [
    "bear1_levg_3.to_csv('bear1_levg_3.csv')"
   ]
  },
  {
   "cell_type": "code",
   "execution_count": 407,
   "metadata": {},
   "outputs": [],
   "source": [
    "bear1_levg_15 = leverage_checker_short('highest', 15, 300, bear_sample1)"
   ]
  },
  {
   "cell_type": "code",
   "execution_count": 420,
   "metadata": {},
   "outputs": [],
   "source": [
    "bear1_levg_15.to_csv('bear1_levg_15.csv')"
   ]
  },
  {
   "cell_type": "code",
   "execution_count": 408,
   "metadata": {},
   "outputs": [],
   "source": [
    "bear1_levg_30 = leverage_checker_short('highest', 30, 300, bear_sample1)"
   ]
  },
  {
   "cell_type": "code",
   "execution_count": 419,
   "metadata": {},
   "outputs": [],
   "source": [
    "bear1_levg_30.to_csv('bear1_levg_30.csv')"
   ]
  },
  {
   "cell_type": "code",
   "execution_count": 404,
   "metadata": {},
   "outputs": [],
   "source": [
    "bull1_long_high = leverage_checker_short('highest', 3, 300, bull_sample1)"
   ]
  },
  {
   "cell_type": "code",
   "execution_count": 418,
   "metadata": {},
   "outputs": [],
   "source": [
    "bull1_long_high.to_csv('bull1_long_high.csv')"
   ]
  },
  {
   "cell_type": "code",
   "execution_count": 405,
   "metadata": {},
   "outputs": [],
   "source": [
    "bull1_long_low = leverage_checker_short('lowest', 3, 300, bull_sample1)"
   ]
  },
  {
   "cell_type": "code",
   "execution_count": 417,
   "metadata": {},
   "outputs": [],
   "source": [
    "bull1_long_low.to_csv('bull1_long_low.csv')"
   ]
  },
  {
   "cell_type": "code",
   "execution_count": 410,
   "metadata": {},
   "outputs": [],
   "source": [
    "bear1_short_high = leverage_checker_short('highest', 3, 300, bear_sample1)"
   ]
  },
  {
   "cell_type": "code",
   "execution_count": 415,
   "metadata": {},
   "outputs": [],
   "source": [
    "bear1_short_high.to_csv('bear1_short_high.csv')"
   ]
  },
  {
   "cell_type": "code",
   "execution_count": 411,
   "metadata": {},
   "outputs": [],
   "source": [
    "bear1_short_low = leverage_checker_short('lowest', 3, 300, bear_sample1)"
   ]
  },
  {
   "cell_type": "code",
   "execution_count": 416,
   "metadata": {},
   "outputs": [],
   "source": [
    "bear1_short_low.to_csv('bear1_short_low.csv')"
   ]
  }
 ],
 "metadata": {
  "kernelspec": {
   "display_name": "Python 3",
   "language": "python",
   "name": "python3"
  },
  "language_info": {
   "codemirror_mode": {
    "name": "ipython",
    "version": 3
   },
   "file_extension": ".py",
   "mimetype": "text/x-python",
   "name": "python",
   "nbconvert_exporter": "python",
   "pygments_lexer": "ipython3",
   "version": "3.8.5"
  }
 },
 "nbformat": 4,
 "nbformat_minor": 4
}
